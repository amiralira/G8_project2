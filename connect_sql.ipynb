{
 "cells": [
  {
   "cell_type": "code",
   "execution_count": 1,
   "metadata": {},
   "outputs": [],
   "source": [
    "import numpy as np\n",
    "import pandas as pd\n",
    "# import pymysql"
   ]
  },
  {
   "cell_type": "code",
   "execution_count": 3,
   "metadata": {},
   "outputs": [
    {
     "name": "stdout",
     "output_type": "stream",
     "text": [
      "<mysql.connector.connection_cext.CMySQLConnection object at 0x00000288AA6ECA10>\n"
     ]
    }
   ],
   "source": [
    "import mysql.connector\n",
    "\n",
    "dataset = pd.read_csv('sales_data.csv', low_memory=False)\n",
    "mydb = mysql.connector.connect(\n",
    "    host=\"localhost\",\n",
    "    user=\"root\",\n",
    "    password=\"1051047595Ma\",\n",
    "    database=\"laptop\"\n",
    ")\n",
    "print(mydb)"
   ]
  },
  {
   "cell_type": "code",
   "execution_count": null,
   "metadata": {},
   "outputs": [],
   "source": [
    "coll = dataset['Order_Date']\n",
    "coll.duplicated().sum()"
   ]
  },
  {
   "cell_type": "code",
   "execution_count": 4,
   "metadata": {},
   "outputs": [
    {
     "name": "stdout",
     "output_type": "stream",
     "text": [
      "prove : 16\n"
     ]
    }
   ],
   "source": [
    "provinces = dataset['Branch']\n",
    "provinces.drop_duplicates(inplace=True)\n",
    "print(\"prove :\",len(provinces))"
   ]
  },
  {
   "cell_type": "code",
   "execution_count": 5,
   "metadata": {},
   "outputs": [],
   "source": [
    "from sqlalchemy import create_engine\n",
    "\n",
    "SERVER='localhost'\n",
    "USERNAME='root'\n",
    "PASSWORD='1051047595Ma'\n",
    "database='laptop'\n",
    "engine = create_engine(f'mysql+pymysql://{USERNAME}:{PASSWORD}@{SERVER}:3306/{database}')\n",
    "conn = engine.connect()"
   ]
  },
  {
   "cell_type": "code",
   "execution_count": 6,
   "metadata": {},
   "outputs": [],
   "source": [
    "mycursor = mydb.cursor()\n",
    "sql_q = \"\"\"\n",
    "CREATE TABLE `priority` (\n",
    "  `laptop_id` BIGINT PRIMARY KEY NOT NULL AUTO_INCREMENT,\n",
    "  `pro` CHAR(255) NOT NULL\n",
    ");\n",
    "\"\"\"\n",
    "mycursor.execute(sql_q)"
   ]
  },
  {
   "cell_type": "code",
   "execution_count": 7,
   "metadata": {},
   "outputs": [],
   "source": [
    "mycursor = mydb.cursor()\n",
    "sql_q = \"\"\"\n",
    "CREATE TABLE `screens` (\n",
    "  `id` BIGINT PRIMARY KEY NOT NULL AUTO_INCREMENT,\n",
    "  `laptop_id` BIGINT NOT NULL,\n",
    "  `model_name` VARCHAR(255) NOT NULL\n",
    ");\n",
    "\"\"\"\n",
    "mycursor.execute(sql_q)"
   ]
  },
  {
   "cell_type": "code",
   "execution_count": 8,
   "metadata": {},
   "outputs": [],
   "source": [
    "mycursor = mydb.cursor()\n",
    "sql_q = \"\"\"\n",
    "CREATE TABLE `scr_size` (\n",
    "  `id` BIGINT PRIMARY KEY NOT NULL AUTO_INCREMENT,\n",
    "  `screen_id` BIGINT NOT NULL,\n",
    "  `screen_size` DOUBLE(8, 2) NOT NULL\n",
    ");\n",
    "\"\"\"\n",
    "mycursor.execute(sql_q)"
   ]
  },
  {
   "cell_type": "code",
   "execution_count": 9,
   "metadata": {},
   "outputs": [],
   "source": [
    "mycursor = mydb.cursor()\n",
    "sql_q = \"\"\"\n",
    "CREATE TABLE `pro_lap` (\n",
    "  `id` BIGINT PRIMARY KEY NOT NULL AUTO_INCREMENT,\n",
    "  `laptop_id` BIGINT NOT NULL,\n",
    "  `province_id` VARCHAR(255) NOT NULL\n",
    ");\n",
    "\"\"\"\n",
    "mycursor.execute(sql_q)"
   ]
  },
  {
   "cell_type": "code",
   "execution_count": 10,
   "metadata": {},
   "outputs": [],
   "source": [
    "mycursor = mydb.cursor()\n",
    "sql_q = \"\"\"\n",
    "CREATE TABLE `storages` (\n",
    "  `id` BIGINT PRIMARY KEY NOT NULL AUTO_INCREMENT,\n",
    "  `laptop_id` BIGINT NOT NULL,\n",
    "  `model_name` VARCHAR(255) NOT NULL\n",
    ");\n",
    "\"\"\"\n",
    "mycursor.execute(sql_q)"
   ]
  },
  {
   "cell_type": "code",
   "execution_count": 11,
   "metadata": {},
   "outputs": [],
   "source": [
    "mycursor = mydb.cursor()\n",
    "sql_q = \"\"\"\n",
    "CREATE TABLE `laptops` (\n",
    "  `id` BIGINT PRIMARY KEY NOT NULL AUTO_INCREMENT,\n",
    "  `name` VARCHAR(255) NOT NULL,\n",
    "  `wieght` DOUBLE(8,2) NOT NULL,\n",
    "  `order_id` BIGINT NOT NULL\n",
    ");\n",
    "\"\"\"\n",
    "mycursor.execute(sql_q)"
   ]
  },
  {
   "cell_type": "code",
   "execution_count": 12,
   "metadata": {},
   "outputs": [],
   "source": [
    "mycursor = mydb.cursor()\n",
    "sql_q = \"\"\"\n",
    "CREATE TABLE `orders` (\n",
    "  `id` BIGINT PRIMARY KEY NOT NULL AUTO_INCREMENT,\n",
    "  `order_date` DATETIME,\n",
    "  `ship_duration` INT\n",
    ");\n",
    "\"\"\"\n",
    "mycursor.execute(sql_q)"
   ]
  },
  {
   "cell_type": "code",
   "execution_count": 13,
   "metadata": {},
   "outputs": [],
   "source": [
    "mycursor = mydb.cursor()\n",
    "sql_q = \"\"\"\n",
    "CREATE TABLE `sales` (\n",
    "  `order_id` BIGINT,\n",
    "  `price` BIGINT NOT NULL,\n",
    "  `percent_disc` INT NOT NULL,\n",
    "  `profit` BIGINT NOT NULL,\n",
    "  `quantity` INT NOT NULL\n",
    ");\n",
    "\"\"\"\n",
    "mycursor.execute(sql_q)"
   ]
  },
  {
   "cell_type": "code",
   "execution_count": 14,
   "metadata": {},
   "outputs": [],
   "source": [
    "mycursor = mydb.cursor()\n",
    "sql_q = \"\"\"\n",
    "CREATE TABLE `os` (\n",
    "  `id` BIGINT PRIMARY KEY NOT NULL AUTO_INCREMENT,\n",
    "  `laptop_id` BIGINT NOT NULL,\n",
    "  `model_name` VARCHAR(255) NOT NULL\n",
    ");\n",
    "\"\"\"\n",
    "mycursor.execute(sql_q)"
   ]
  },
  {
   "cell_type": "code",
   "execution_count": 15,
   "metadata": {},
   "outputs": [],
   "source": [
    "mycursor = mydb.cursor()\n",
    "sql_q = \"\"\"\n",
    "CREATE TABLE `cpus` (\n",
    "  `id` BIGINT PRIMARY KEY NOT NULL AUTO_INCREMENT,\n",
    "  `laptop_id` BIGINT NOT NULL,\n",
    "  `cpu_name` VARCHAR(255) NOT NULL\n",
    ");\n",
    "\"\"\"\n",
    "mycursor.execute(sql_q)"
   ]
  },
  {
   "cell_type": "code",
   "execution_count": 16,
   "metadata": {},
   "outputs": [],
   "source": [
    "mycursor = mydb.cursor()\n",
    "sql_q = \"\"\"\n",
    "CREATE TABLE `cat_name` (\n",
    "  `id` BIGINT PRIMARY KEY NOT NULL AUTO_INCREMENT,\n",
    "  `category_name` VARCHAR(255) NOT NULL\n",
    ");\n",
    "\"\"\"\n",
    "mycursor.execute(sql_q)"
   ]
  },
  {
   "cell_type": "code",
   "execution_count": 17,
   "metadata": {},
   "outputs": [],
   "source": [
    "mycursor = mydb.cursor()\n",
    "sql_q = \"\"\"\n",
    "CREATE TABLE `os_ver` (\n",
    "  `id` BIGINT PRIMARY KEY NOT NULL AUTO_INCREMENT,\n",
    "  `os_id` BIGINT NOT NULL,\n",
    "  `os_ver` VARCHAR(255)\n",
    ");\n",
    "\"\"\"\n",
    "mycursor.execute(sql_q)"
   ]
  },
  {
   "cell_type": "code",
   "execution_count": 19,
   "metadata": {},
   "outputs": [],
   "source": [
    "mycursor = mydb.cursor()\n",
    "sql_q = \"\"\"\n",
    "CREATE TABLE `provinces` (\n",
    "  `id` BIGINT PRIMARY KEY NOT NULL AUTO_INCREMENT,\n",
    "  `pro_name` VARCHAR(255) NOT NULL\n",
    ");\n",
    "\"\"\"\n",
    "mycursor.execute(sql_q)"
   ]
  },
  {
   "cell_type": "code",
   "execution_count": 20,
   "metadata": {},
   "outputs": [],
   "source": [
    "mycursor = mydb.cursor()\n",
    "sql_q = \"\"\"\n",
    "CREATE TABLE `category` (\n",
    "  `model_id` BIGINT PRIMARY KEY NOT NULL AUTO_INCREMENT,\n",
    "  `laptop_id` BIGINT NOT NULL\n",
    ");\n",
    "\"\"\"\n",
    "mycursor.execute(sql_q)"
   ]
  },
  {
   "cell_type": "code",
   "execution_count": 21,
   "metadata": {},
   "outputs": [],
   "source": [
    "mycursor = mydb.cursor()\n",
    "sql_q = \"\"\"\n",
    "CREATE TABLE `rams` (\n",
    "  `id` BIGINT PRIMARY KEY NOT NULL AUTO_INCREMENT,\n",
    "  `laptop_id` BIGINT NOT NULL,\n",
    "  `model_name` VARCHAR(255) NOT NULL\n",
    ");\n",
    "\"\"\"\n",
    "mycursor.execute(sql_q)"
   ]
  },
  {
   "cell_type": "code",
   "execution_count": 22,
   "metadata": {},
   "outputs": [],
   "source": [
    "mycursor = mydb.cursor()\n",
    "sql_q = \"\"\"\n",
    "CREATE TABLE `manufactures` (\n",
    "  `id` BIGINT PRIMARY KEY NOT NULL AUTO_INCREMENT,\n",
    "  `laptop_id` BIGINT NOT NULL,\n",
    "  `man_name` VARCHAR(255) NOT NULL\n",
    ");\n",
    "\"\"\"\n",
    "mycursor.execute(sql_q)"
   ]
  },
  {
   "cell_type": "markdown",
   "metadata": {},
   "source": [
    "### Create Foreign Key"
   ]
  },
  {
   "cell_type": "code",
   "execution_count": 23,
   "metadata": {},
   "outputs": [],
   "source": [
    "mycursor = mydb.cursor()\n",
    "sql_q = \"\"\"\n",
    "alter table pro_lap\n",
    "    add constraint pro_lap_laptops__fk\n",
    "        foreign key (laptop_id) references laptops (id);\n",
    "\"\"\"\n",
    "mycursor.execute(sql_q)"
   ]
  },
  {
   "cell_type": "code",
   "execution_count": 24,
   "metadata": {},
   "outputs": [],
   "source": [
    "mycursor = mydb.cursor()\n",
    "sql_q = \"\"\"\n",
    "    ALTER TABLE screens\n",
    "        ADD CONSTRAINT screens_laptops_fk\n",
    "            FOREIGN KEY (laptop_id) REFERENCES laptops(id)\n",
    "\"\"\"\n",
    "mycursor.execute(sql_q)"
   ]
  },
  {
   "cell_type": "code",
   "execution_count": 25,
   "metadata": {},
   "outputs": [],
   "source": [
    "mycursor = mydb.cursor()\n",
    "sql_q = \"\"\"\n",
    "    ALTER TABLE category\n",
    "      ADD CONSTRAINT category_cat_name_fk\n",
    "        FOREIGN KEY (model_id) REFERENCES cat_name(id)\n",
    "\"\"\"\n",
    "mycursor.execute(sql_q)"
   ]
  },
  {
   "cell_type": "code",
   "execution_count": 26,
   "metadata": {},
   "outputs": [],
   "source": [
    "mycursor = mydb.cursor()\n",
    "sql_q = \"\"\"\n",
    "    ALTER TABLE os\n",
    "      ADD CONSTRAINT os_laptops_fk\n",
    "        FOREIGN KEY (laptop_id) REFERENCES laptops(id)\n",
    "\"\"\"\n",
    "mycursor.execute(sql_q)"
   ]
  },
  {
   "cell_type": "code",
   "execution_count": null,
   "metadata": {},
   "outputs": [],
   "source": [
    "# Foreign key for laptops referencing cpus\n",
    "mycursor.execute(\"\"\"\n",
    "alter table laptops\n",
    "    add constraint laptops_cpus_laptop_id_fk\n",
    "        foreign key (id) references cpus (laptop_id);\n",
    "\"\"\")\n",
    "\n",
    "# Foreign key for laptops referencing priority\n",
    "mycursor.execute(\"\"\"\n",
    "  ALTER TABLE laptops\n",
    "    ADD CONSTRAINT laptops_priority_laptop_id_fk\n",
    "      FOREIGN KEY (id) REFERENCES priority(laptop_id)\n",
    "\"\"\")\n",
    "\n",
    "# Foreign key for laptops referencing manufactures\n",
    "mycursor.execute(\"\"\"\n",
    "  ALTER TABLE laptops\n",
    "    ADD CONSTRAINT laptops_manufactures_laptop_id_fk\n",
    "      FOREIGN KEY (id) REFERENCES manufactures(laptop_id)\n",
    "\"\"\")\n",
    "\n",
    "# Foreign key for pro_lap referencing laptops\n",
    "# mycursor.execute(\"\"\"\n",
    "#   ALTER TABLE pro_lap\n",
    "#     ADD CONSTRAINT pro_lap_laptops_fk\n",
    "#       FOREIGN KEY (laptop_id) REFERENCES laptops(id)\n",
    "# \"\"\")\n",
    "\n",
    "# Foreign key for category referencing laptops\n",
    "# mycursor.execute(\"\"\"\n",
    "#   ALTER TABLE category\n",
    "#     ADD CONSTRAINT category_laptops_fk\n",
    "#       FOREIGN KEY (laptap_id) REFERENCES laptops(id)\n",
    "# \"\"\")\n"
   ]
  },
  {
   "cell_type": "code",
   "execution_count": 27,
   "metadata": {},
   "outputs": [],
   "source": [
    "mycursor = mydb.cursor()\n",
    "\n",
    "# Foreign key for os_ver referencing os\n",
    "mycursor.execute(\"\"\"\n",
    "  ALTER TABLE os_ver\n",
    "    ADD CONSTRAINT os_ver_os_fk\n",
    "      FOREIGN KEY (os_id) REFERENCES os(id)\n",
    "\"\"\")\n",
    "mycursor = mydb.cursor()\n",
    "\n",
    "# Foreign key for scr_size referencing screens\n",
    "mycursor.execute(\"\"\"\n",
    "  ALTER TABLE scr_size\n",
    "    ADD CONSTRAINT scr_size_screens_fk\n",
    "      FOREIGN KEY (screen_id) REFERENCES screens(id)\n",
    "\"\"\")"
   ]
  },
  {
   "cell_type": "code",
   "execution_count": 28,
   "metadata": {},
   "outputs": [],
   "source": [
    "mycursor = mydb.cursor()\n",
    "sql_q = \"\"\"\n",
    "  ALTER TABLE laptops\n",
    "    ADD CONSTRAINT laptops_orders_fk\n",
    "      FOREIGN KEY (order_id) REFERENCES orders(id)\n",
    "\"\"\"\n",
    "mycursor.execute(sql_q)"
   ]
  },
  {
   "cell_type": "code",
   "execution_count": 29,
   "metadata": {},
   "outputs": [],
   "source": [
    "mycursor = mydb.cursor()\n",
    "sql_q = \"\"\"\n",
    "  ALTER TABLE sales\n",
    "    ADD CONSTRAINT sales_orders_fk\n",
    "      FOREIGN KEY (order_id) REFERENCES orders(id)\n",
    "\"\"\"\n",
    "mycursor.execute(sql_q)"
   ]
  },
  {
   "cell_type": "code",
   "execution_count": null,
   "metadata": {},
   "outputs": [],
   "source": [
    "dataset.info()"
   ]
  },
  {
   "cell_type": "code",
   "execution_count": 30,
   "metadata": {},
   "outputs": [
    {
     "data": {
      "text/plain": [
       "0          2.18\n",
       "1          1.30\n",
       "2          2.60\n",
       "3          1.40\n",
       "4          2.23\n",
       "           ... \n",
       "1017076    2.40\n",
       "1017077    2.05\n",
       "1017078    1.98\n",
       "1017079    1.34\n",
       "1017080    2.30\n",
       "Name: Weight, Length: 1017081, dtype: float64"
      ]
     },
     "execution_count": 30,
     "metadata": {},
     "output_type": "execute_result"
    }
   ],
   "source": [
    "def rmkg(char = str):\n",
    "    char = float(char.replace('k', '').replace('g', '').replace('s', ''))\n",
    "    return char\n",
    "dataset['Weight'] = dataset['Weight'].apply(rmkg)\n",
    "dataset['Weight']"
   ]
  },
  {
   "cell_type": "code",
   "execution_count": null,
   "metadata": {},
   "outputs": [],
   "source": [
    "import pandas as pd\n",
    "\n",
    "# Define the minimum and maximum timestamps\n",
    "min_timestamp = pd.Timestamp('1300-01-01')\n",
    "max_timestamp = pd.Timestamp('1500-12-31')\n",
    "\n",
    "# Create a custom timestamp range\n",
    "custom_range = pd.date_range(start=min_timestamp, end=max_timestamp, freq='D')\n",
    "\n",
    "# Print the custom timestamp range\n",
    "print(custom_range)"
   ]
  },
  {
   "cell_type": "code",
   "execution_count": 31,
   "metadata": {},
   "outputs": [],
   "source": [
    "span = pd.period_range(\"1300-01-01\", \"1500-01-01\", freq=\"D\")\n",
    "def convert(item):\n",
    "    year = int(item[:4])\n",
    "    month = int(item[5:7])\n",
    "    day = int(item[8:10])\n",
    "    return pd.Period(year=year, month=month, day=day, freq=\"D\")\n",
    "\n",
    "\n",
    "#  0    1111-01-01\n",
    "#  1    1212-12-12\n",
    "#  dtype: period[D]\n",
    "\n",
    "dataset['Order_Date'] = dataset['Order_Date'].apply(convert)"
   ]
  },
  {
   "cell_type": "code",
   "execution_count": 32,
   "metadata": {},
   "outputs": [],
   "source": [
    "dataset['Order_ID'] = dataset['Order_ID'] + 1"
   ]
  },
  {
   "cell_type": "code",
   "execution_count": 35,
   "metadata": {},
   "outputs": [
    {
     "data": {
      "text/plain": [
       "974291"
      ]
     },
     "execution_count": 35,
     "metadata": {},
     "output_type": "execute_result"
    }
   ],
   "source": [
    "orders = dataset[['Order_Date', 'Ship_Duration']]\n",
    "orders.duplicated().sum()"
   ]
  },
  {
   "cell_type": "code",
   "execution_count": 36,
   "metadata": {},
   "outputs": [
    {
     "name": "stderr",
     "output_type": "stream",
     "text": [
      "C:\\Users\\Mahdi\\AppData\\Local\\Temp\\ipykernel_14536\\2267690579.py:1: SettingWithCopyWarning: \n",
      "A value is trying to be set on a copy of a slice from a DataFrame\n",
      "\n",
      "See the caveats in the documentation: https://pandas.pydata.org/pandas-docs/stable/user_guide/indexing.html#returning-a-view-versus-a-copy\n",
      "  orders.rename(columns={'Order_Date': 'order_date', 'Ship_Duration': 'ship_duration'}, inplace=True)\n"
     ]
    },
    {
     "data": {
      "text/plain": [
       "1017081"
      ]
     },
     "execution_count": 36,
     "metadata": {},
     "output_type": "execute_result"
    }
   ],
   "source": [
    "orders.rename(columns={'Order_Date': 'order_date', 'Ship_Duration': 'ship_duration'}, inplace=True)\n",
    "orders.to_sql(name='orders', con=conn, index=False ,if_exists='append')"
   ]
  },
  {
   "cell_type": "code",
   "execution_count": 38,
   "metadata": {},
   "outputs": [
    {
     "data": {
      "text/html": [
       "<div>\n",
       "<style scoped>\n",
       "    .dataframe tbody tr th:only-of-type {\n",
       "        vertical-align: middle;\n",
       "    }\n",
       "\n",
       "    .dataframe tbody tr th {\n",
       "        vertical-align: top;\n",
       "    }\n",
       "\n",
       "    .dataframe thead th {\n",
       "        text-align: right;\n",
       "    }\n",
       "</style>\n",
       "<table border=\"1\" class=\"dataframe\">\n",
       "  <thead>\n",
       "    <tr style=\"text-align: right;\">\n",
       "      <th></th>\n",
       "      <th>id</th>\n",
       "      <th>order_date</th>\n",
       "      <th>ship_duration</th>\n",
       "    </tr>\n",
       "  </thead>\n",
       "  <tbody>\n",
       "    <tr>\n",
       "      <th>0</th>\n",
       "      <td>1</td>\n",
       "      <td>NaT</td>\n",
       "      <td>3</td>\n",
       "    </tr>\n",
       "    <tr>\n",
       "      <th>1</th>\n",
       "      <td>2</td>\n",
       "      <td>NaT</td>\n",
       "      <td>2</td>\n",
       "    </tr>\n",
       "    <tr>\n",
       "      <th>2</th>\n",
       "      <td>3</td>\n",
       "      <td>NaT</td>\n",
       "      <td>5</td>\n",
       "    </tr>\n",
       "    <tr>\n",
       "      <th>3</th>\n",
       "      <td>4</td>\n",
       "      <td>NaT</td>\n",
       "      <td>3</td>\n",
       "    </tr>\n",
       "    <tr>\n",
       "      <th>4</th>\n",
       "      <td>5</td>\n",
       "      <td>NaT</td>\n",
       "      <td>8</td>\n",
       "    </tr>\n",
       "    <tr>\n",
       "      <th>...</th>\n",
       "      <td>...</td>\n",
       "      <td>...</td>\n",
       "      <td>...</td>\n",
       "    </tr>\n",
       "    <tr>\n",
       "      <th>1017076</th>\n",
       "      <td>1017077</td>\n",
       "      <td>NaT</td>\n",
       "      <td>4</td>\n",
       "    </tr>\n",
       "    <tr>\n",
       "      <th>1017077</th>\n",
       "      <td>1017078</td>\n",
       "      <td>NaT</td>\n",
       "      <td>6</td>\n",
       "    </tr>\n",
       "    <tr>\n",
       "      <th>1017078</th>\n",
       "      <td>1017079</td>\n",
       "      <td>NaT</td>\n",
       "      <td>2</td>\n",
       "    </tr>\n",
       "    <tr>\n",
       "      <th>1017079</th>\n",
       "      <td>1017080</td>\n",
       "      <td>NaT</td>\n",
       "      <td>10</td>\n",
       "    </tr>\n",
       "    <tr>\n",
       "      <th>1017080</th>\n",
       "      <td>1017081</td>\n",
       "      <td>NaT</td>\n",
       "      <td>9</td>\n",
       "    </tr>\n",
       "  </tbody>\n",
       "</table>\n",
       "<p>1017081 rows × 3 columns</p>\n",
       "</div>"
      ],
      "text/plain": [
       "              id order_date  ship_duration\n",
       "0              1        NaT              3\n",
       "1              2        NaT              2\n",
       "2              3        NaT              5\n",
       "3              4        NaT              3\n",
       "4              5        NaT              8\n",
       "...          ...        ...            ...\n",
       "1017076  1017077        NaT              4\n",
       "1017077  1017078        NaT              6\n",
       "1017078  1017079        NaT              2\n",
       "1017079  1017080        NaT             10\n",
       "1017080  1017081        NaT              9\n",
       "\n",
       "[1017081 rows x 3 columns]"
      ]
     },
     "execution_count": 38,
     "metadata": {},
     "output_type": "execute_result"
    }
   ],
   "source": [
    "orders = pd.read_sql_table('orders', con=conn)\n",
    "orders"
   ]
  },
  {
   "cell_type": "code",
   "execution_count": 39,
   "metadata": {},
   "outputs": [
    {
     "data": {
      "text/html": [
       "<div>\n",
       "<style scoped>\n",
       "    .dataframe tbody tr th:only-of-type {\n",
       "        vertical-align: middle;\n",
       "    }\n",
       "\n",
       "    .dataframe tbody tr th {\n",
       "        vertical-align: top;\n",
       "    }\n",
       "\n",
       "    .dataframe thead th {\n",
       "        text-align: right;\n",
       "    }\n",
       "</style>\n",
       "<table border=\"1\" class=\"dataframe\">\n",
       "  <thead>\n",
       "    <tr style=\"text-align: right;\">\n",
       "      <th></th>\n",
       "      <th>name</th>\n",
       "      <th>wieght</th>\n",
       "      <th>order_id</th>\n",
       "    </tr>\n",
       "  </thead>\n",
       "  <tbody>\n",
       "    <tr>\n",
       "      <th>0</th>\n",
       "      <td>Vostro 3568</td>\n",
       "      <td>2.18</td>\n",
       "      <td>1</td>\n",
       "    </tr>\n",
       "    <tr>\n",
       "      <th>1</th>\n",
       "      <td>Yoga 720-13IKB</td>\n",
       "      <td>1.30</td>\n",
       "      <td>2</td>\n",
       "    </tr>\n",
       "    <tr>\n",
       "      <th>2</th>\n",
       "      <td>IdeaPad Y700-15ISK</td>\n",
       "      <td>2.60</td>\n",
       "      <td>3</td>\n",
       "    </tr>\n",
       "    <tr>\n",
       "      <th>3</th>\n",
       "      <td>Inspiron 5370</td>\n",
       "      <td>1.40</td>\n",
       "      <td>4</td>\n",
       "    </tr>\n",
       "    <tr>\n",
       "      <th>4</th>\n",
       "      <td>Aspire E5-576G</td>\n",
       "      <td>2.23</td>\n",
       "      <td>5</td>\n",
       "    </tr>\n",
       "    <tr>\n",
       "      <th>...</th>\n",
       "      <td>...</td>\n",
       "      <td>...</td>\n",
       "      <td>...</td>\n",
       "    </tr>\n",
       "    <tr>\n",
       "      <th>1017076</th>\n",
       "      <td>Legion Y520-15IKBN</td>\n",
       "      <td>2.40</td>\n",
       "      <td>1017077</td>\n",
       "    </tr>\n",
       "    <tr>\n",
       "      <th>1017077</th>\n",
       "      <td>V330-15IKB (i5-8250U/4GB/500GB/FHD/W10)</td>\n",
       "      <td>2.05</td>\n",
       "      <td>1017078</td>\n",
       "    </tr>\n",
       "    <tr>\n",
       "      <th>1017078</th>\n",
       "      <td>Vostro 5568</td>\n",
       "      <td>1.98</td>\n",
       "      <td>1017079</td>\n",
       "    </tr>\n",
       "    <tr>\n",
       "      <th>1017079</th>\n",
       "      <td>Envy 13-AB020nr</td>\n",
       "      <td>1.34</td>\n",
       "      <td>1017080</td>\n",
       "    </tr>\n",
       "    <tr>\n",
       "      <th>1017080</th>\n",
       "      <td>Inspiron 3567</td>\n",
       "      <td>2.30</td>\n",
       "      <td>1017081</td>\n",
       "    </tr>\n",
       "  </tbody>\n",
       "</table>\n",
       "<p>1017081 rows × 3 columns</p>\n",
       "</div>"
      ],
      "text/plain": [
       "                                            name  wieght  order_id\n",
       "0                                    Vostro 3568    2.18         1\n",
       "1                                 Yoga 720-13IKB    1.30         2\n",
       "2                             IdeaPad Y700-15ISK    2.60         3\n",
       "3                                  Inspiron 5370    1.40         4\n",
       "4                                 Aspire E5-576G    2.23         5\n",
       "...                                          ...     ...       ...\n",
       "1017076                       Legion Y520-15IKBN    2.40   1017077\n",
       "1017077  V330-15IKB (i5-8250U/4GB/500GB/FHD/W10)    2.05   1017078\n",
       "1017078                              Vostro 5568    1.98   1017079\n",
       "1017079                          Envy 13-AB020nr    1.34   1017080\n",
       "1017080                            Inspiron 3567    2.30   1017081\n",
       "\n",
       "[1017081 rows x 3 columns]"
      ]
     },
     "execution_count": 39,
     "metadata": {},
     "output_type": "execute_result"
    }
   ],
   "source": [
    "laptops = pd.DataFrame()\n",
    "laptops[['name', 'wieght']] = dataset[['Model_Name', 'Weight']]\n",
    "laptops['order_id'] = orders['id']\n",
    "laptops"
   ]
  },
  {
   "cell_type": "code",
   "execution_count": 40,
   "metadata": {},
   "outputs": [
    {
     "name": "stdout",
     "output_type": "stream",
     "text": [
      "Appended!\n"
     ]
    }
   ],
   "source": [
    "laptops.to_sql(name='laptops', con=conn, index=False ,if_exists='append')\n",
    "print('Appended!')"
   ]
  },
  {
   "cell_type": "code",
   "execution_count": 41,
   "metadata": {},
   "outputs": [
    {
     "name": "stdout",
     "output_type": "stream",
     "text": [
      "Appended!\n"
     ]
    }
   ],
   "source": [
    "sales = pd.DataFrame()\n",
    "sales['order_id'] = orders['id']\n",
    "sales[['price', 'percent_disc', 'profit', 'quantity']] = dataset[['Price', 'Discount', 'Profit', 'Quantity']]\n",
    "sales.to_sql(name='sales', con=conn, index=False ,if_exists='append')\n",
    "print('Appended!')"
   ]
  },
  {
   "cell_type": "code",
   "execution_count": 43,
   "metadata": {},
   "outputs": [
    {
     "data": {
      "text/plain": [
       "1017081"
      ]
     },
     "execution_count": 43,
     "metadata": {},
     "output_type": "execute_result"
    }
   ],
   "source": [
    "proirity = pd.DataFrame()\n",
    "proirity[['laptop_id', 'pro']] = dataset[['Order_ID', 'Order_Priority']]\n",
    "proirity.to_sql('priority', con=conn, index=False, if_exists='append')"
   ]
  },
  {
   "cell_type": "code",
   "execution_count": 44,
   "metadata": {},
   "outputs": [
    {
     "name": "stdout",
     "output_type": "stream",
     "text": [
      "Appended!\n"
     ]
    }
   ],
   "source": [
    "man_fac = pd.DataFrame()\n",
    "# dataset.rename(columns={'Order_ID': 'laptop_id', 'Manufacturer': 'man_name'}, inplace=True)\n",
    "man_fac[['laptop_id', 'man_name']] = dataset[['Order_ID', 'Manufacturer']]\n",
    "man_fac.to_sql(name='manufactures', con=conn, index=False ,if_exists='append')\n",
    "print('Appended!')"
   ]
  },
  {
   "cell_type": "code",
   "execution_count": 45,
   "metadata": {},
   "outputs": [
    {
     "name": "stdout",
     "output_type": "stream",
     "text": [
      "Appended!\n"
     ]
    }
   ],
   "source": [
    "man_fac = pd.DataFrame()\n",
    "# dataset.rename(columns={'Storage': 'model_name'}, inplace=True)\n",
    "man_fac[['laptop_id', 'model_name']] = dataset[['Order_ID', 'Storage']]\n",
    "man_fac.to_sql(name='storages', con=conn, index=False ,if_exists='append')\n",
    "print('Appended!')"
   ]
  },
  {
   "cell_type": "code",
   "execution_count": 46,
   "metadata": {},
   "outputs": [
    {
     "name": "stdout",
     "output_type": "stream",
     "text": [
      "Appended!\n"
     ]
    }
   ],
   "source": [
    "# dataset.rename(columns={'OS': 'model_name'}, inplace=True)\n",
    "man_fac = pd.DataFrame()\n",
    "man_fac[['laptop_id', 'model_name']] = dataset[['Order_ID', 'OS']]\n",
    "man_fac.to_sql(name='os', con=conn, index=False ,if_exists='append')\n",
    "print('Appended!')"
   ]
  },
  {
   "cell_type": "code",
   "execution_count": 47,
   "metadata": {},
   "outputs": [
    {
     "data": {
      "text/plain": [
       "0                1\n",
       "1                2\n",
       "2                3\n",
       "3                4\n",
       "4                5\n",
       "            ...   \n",
       "1017076    1017077\n",
       "1017077    1017078\n",
       "1017078    1017079\n",
       "1017079    1017080\n",
       "1017080    1017081\n",
       "Name: id, Length: 1017081, dtype: int64"
      ]
     },
     "execution_count": 47,
     "metadata": {},
     "output_type": "execute_result"
    }
   ],
   "source": [
    "os_table = pd.read_sql_table('os', con=conn)\n",
    "os_table = os_table['id']\n",
    "os_table"
   ]
  },
  {
   "cell_type": "code",
   "execution_count": 48,
   "metadata": {},
   "outputs": [
    {
     "name": "stdout",
     "output_type": "stream",
     "text": [
      "Appended!\n"
     ]
    }
   ],
   "source": [
    "man_fac = pd.DataFrame()\n",
    "# dataset.rename(columns={'os_ver': 'model_ver'}, inplace=True)\n",
    "man_fac['os_id'] = os_table\n",
    "man_fac['os_ver'] = dataset['OS_Version'].astype('object')\n",
    "man_fac.to_sql(name='os_ver', con=conn, index=False ,if_exists='append')\n",
    "print('Appended!')"
   ]
  },
  {
   "cell_type": "code",
   "execution_count": null,
   "metadata": {},
   "outputs": [],
   "source": [
    "dataset.info()"
   ]
  },
  {
   "cell_type": "code",
   "execution_count": 51,
   "metadata": {},
   "outputs": [
    {
     "data": {
      "text/plain": [
       "0                    Notebook\n",
       "1          2 in 1 Convertible\n",
       "2                    Notebook\n",
       "3                   Ultrabook\n",
       "4                    Notebook\n",
       "                  ...        \n",
       "1017076                Gaming\n",
       "1017077              Notebook\n",
       "1017078              Notebook\n",
       "1017079             Ultrabook\n",
       "1017080              Notebook\n",
       "Name: category_name, Length: 1017081, dtype: object"
      ]
     },
     "execution_count": 51,
     "metadata": {},
     "output_type": "execute_result"
    }
   ],
   "source": [
    "category = dataset['Category']\n",
    "category.rename('category_name', inplace=True)"
   ]
  },
  {
   "cell_type": "code",
   "execution_count": 52,
   "metadata": {},
   "outputs": [
    {
     "data": {
      "text/plain": [
       "1017081"
      ]
     },
     "execution_count": 52,
     "metadata": {},
     "output_type": "execute_result"
    }
   ],
   "source": [
    "category.to_sql('cat_name', conn, index=False, if_exists='append')"
   ]
  },
  {
   "cell_type": "code",
   "execution_count": 53,
   "metadata": {},
   "outputs": [
    {
     "data": {
      "text/html": [
       "<div>\n",
       "<style scoped>\n",
       "    .dataframe tbody tr th:only-of-type {\n",
       "        vertical-align: middle;\n",
       "    }\n",
       "\n",
       "    .dataframe tbody tr th {\n",
       "        vertical-align: top;\n",
       "    }\n",
       "\n",
       "    .dataframe thead th {\n",
       "        text-align: right;\n",
       "    }\n",
       "</style>\n",
       "<table border=\"1\" class=\"dataframe\">\n",
       "  <thead>\n",
       "    <tr style=\"text-align: right;\">\n",
       "      <th></th>\n",
       "      <th>id</th>\n",
       "      <th>category_name</th>\n",
       "    </tr>\n",
       "  </thead>\n",
       "  <tbody>\n",
       "    <tr>\n",
       "      <th>0</th>\n",
       "      <td>1</td>\n",
       "      <td>Notebook</td>\n",
       "    </tr>\n",
       "    <tr>\n",
       "      <th>1</th>\n",
       "      <td>2</td>\n",
       "      <td>2 in 1 Convertible</td>\n",
       "    </tr>\n",
       "    <tr>\n",
       "      <th>2</th>\n",
       "      <td>3</td>\n",
       "      <td>Notebook</td>\n",
       "    </tr>\n",
       "    <tr>\n",
       "      <th>3</th>\n",
       "      <td>4</td>\n",
       "      <td>Ultrabook</td>\n",
       "    </tr>\n",
       "    <tr>\n",
       "      <th>4</th>\n",
       "      <td>5</td>\n",
       "      <td>Notebook</td>\n",
       "    </tr>\n",
       "    <tr>\n",
       "      <th>...</th>\n",
       "      <td>...</td>\n",
       "      <td>...</td>\n",
       "    </tr>\n",
       "    <tr>\n",
       "      <th>1017076</th>\n",
       "      <td>1017077</td>\n",
       "      <td>Gaming</td>\n",
       "    </tr>\n",
       "    <tr>\n",
       "      <th>1017077</th>\n",
       "      <td>1017078</td>\n",
       "      <td>Notebook</td>\n",
       "    </tr>\n",
       "    <tr>\n",
       "      <th>1017078</th>\n",
       "      <td>1017079</td>\n",
       "      <td>Notebook</td>\n",
       "    </tr>\n",
       "    <tr>\n",
       "      <th>1017079</th>\n",
       "      <td>1017080</td>\n",
       "      <td>Ultrabook</td>\n",
       "    </tr>\n",
       "    <tr>\n",
       "      <th>1017080</th>\n",
       "      <td>1017081</td>\n",
       "      <td>Notebook</td>\n",
       "    </tr>\n",
       "  </tbody>\n",
       "</table>\n",
       "<p>1017081 rows × 2 columns</p>\n",
       "</div>"
      ],
      "text/plain": [
       "              id       category_name\n",
       "0              1            Notebook\n",
       "1              2  2 in 1 Convertible\n",
       "2              3            Notebook\n",
       "3              4           Ultrabook\n",
       "4              5            Notebook\n",
       "...          ...                 ...\n",
       "1017076  1017077              Gaming\n",
       "1017077  1017078            Notebook\n",
       "1017078  1017079            Notebook\n",
       "1017079  1017080           Ultrabook\n",
       "1017080  1017081            Notebook\n",
       "\n",
       "[1017081 rows x 2 columns]"
      ]
     },
     "execution_count": 53,
     "metadata": {},
     "output_type": "execute_result"
    }
   ],
   "source": [
    "category = pd.read_sql_table('cat_name', conn)\n",
    "category"
   ]
  },
  {
   "cell_type": "code",
   "execution_count": 55,
   "metadata": {},
   "outputs": [
    {
     "name": "stdout",
     "output_type": "stream",
     "text": [
      "Appended!\n"
     ]
    }
   ],
   "source": [
    "man_fac = pd.DataFrame()\n",
    "# dataset.rename(columns={'Category': 'category_name'}, inplace=True)\n",
    "man_fac['model_id'] = category['id']\n",
    "man_fac['laptop_id'] = dataset['Order_ID']\n",
    "man_fac.to_sql(name='category', con=conn, index=False ,if_exists='append')\n",
    "print('Appended!')"
   ]
  },
  {
   "cell_type": "code",
   "execution_count": null,
   "metadata": {},
   "outputs": [],
   "source": [
    "man_fac = dataset[['Order_ID', 'CPU']]\n",
    "man_fac"
   ]
  },
  {
   "cell_type": "code",
   "execution_count": 56,
   "metadata": {},
   "outputs": [
    {
     "name": "stdout",
     "output_type": "stream",
     "text": [
      "Appended!\n"
     ]
    }
   ],
   "source": [
    "man_fac = pd.DataFrame()\n",
    "# dataset.rename(columns={'CPU': 'cpu_name'}, inplace=True)\n",
    "# man_fac['id'] = category\n",
    "man_fac[['laptop_id', 'cpu_name']] = dataset[['Order_ID', 'CPU']]\n",
    "man_fac.to_sql(name='cpus', con=conn, index=False ,if_exists='append')\n",
    "print('Appended!')"
   ]
  },
  {
   "cell_type": "code",
   "execution_count": 58,
   "metadata": {},
   "outputs": [
    {
     "name": "stdout",
     "output_type": "stream",
     "text": [
      "Appended!\n"
     ]
    }
   ],
   "source": [
    "man_fac = pd.DataFrame()\n",
    "# man_fac['id'] = category\n",
    "man_fac[['laptop_id', 'model_name']] = dataset[['Order_ID', 'Screen']]\n",
    "man_fac.to_sql(name='screens', con=conn, index=False ,if_exists='append')\n",
    "print('Appended!')"
   ]
  },
  {
   "cell_type": "code",
   "execution_count": 59,
   "metadata": {},
   "outputs": [
    {
     "data": {
      "text/html": [
       "<div>\n",
       "<style scoped>\n",
       "    .dataframe tbody tr th:only-of-type {\n",
       "        vertical-align: middle;\n",
       "    }\n",
       "\n",
       "    .dataframe tbody tr th {\n",
       "        vertical-align: top;\n",
       "    }\n",
       "\n",
       "    .dataframe thead th {\n",
       "        text-align: right;\n",
       "    }\n",
       "</style>\n",
       "<table border=\"1\" class=\"dataframe\">\n",
       "  <thead>\n",
       "    <tr style=\"text-align: right;\">\n",
       "      <th></th>\n",
       "      <th>id</th>\n",
       "      <th>laptop_id</th>\n",
       "      <th>model_name</th>\n",
       "    </tr>\n",
       "  </thead>\n",
       "  <tbody>\n",
       "    <tr>\n",
       "      <th>0</th>\n",
       "      <td>1</td>\n",
       "      <td>1</td>\n",
       "      <td>Full HD 1920x1080</td>\n",
       "    </tr>\n",
       "    <tr>\n",
       "      <th>1</th>\n",
       "      <td>2</td>\n",
       "      <td>2</td>\n",
       "      <td>IPS Panel Full HD / Touchscreen 1920x1080</td>\n",
       "    </tr>\n",
       "    <tr>\n",
       "      <th>2</th>\n",
       "      <td>3</td>\n",
       "      <td>3</td>\n",
       "      <td>IPS Panel Full HD 1920x1080</td>\n",
       "    </tr>\n",
       "    <tr>\n",
       "      <th>3</th>\n",
       "      <td>4</td>\n",
       "      <td>4</td>\n",
       "      <td>IPS Panel Full HD 1920x1080</td>\n",
       "    </tr>\n",
       "    <tr>\n",
       "      <th>4</th>\n",
       "      <td>5</td>\n",
       "      <td>5</td>\n",
       "      <td>Full HD 1920x1080</td>\n",
       "    </tr>\n",
       "    <tr>\n",
       "      <th>...</th>\n",
       "      <td>...</td>\n",
       "      <td>...</td>\n",
       "      <td>...</td>\n",
       "    </tr>\n",
       "    <tr>\n",
       "      <th>1017076</th>\n",
       "      <td>1017077</td>\n",
       "      <td>1017077</td>\n",
       "      <td>IPS Panel Full HD 1920x1080</td>\n",
       "    </tr>\n",
       "    <tr>\n",
       "      <th>1017077</th>\n",
       "      <td>1017078</td>\n",
       "      <td>1017078</td>\n",
       "      <td>Full HD 1920x1080</td>\n",
       "    </tr>\n",
       "    <tr>\n",
       "      <th>1017078</th>\n",
       "      <td>1017079</td>\n",
       "      <td>1017079</td>\n",
       "      <td>Full HD 1920x1080</td>\n",
       "    </tr>\n",
       "    <tr>\n",
       "      <th>1017079</th>\n",
       "      <td>1017080</td>\n",
       "      <td>1017080</td>\n",
       "      <td>IPS Panel Quad HD+ 3200x1800</td>\n",
       "    </tr>\n",
       "    <tr>\n",
       "      <th>1017080</th>\n",
       "      <td>1017081</td>\n",
       "      <td>1017081</td>\n",
       "      <td>Full HD 1920x1080</td>\n",
       "    </tr>\n",
       "  </tbody>\n",
       "</table>\n",
       "<p>1017081 rows × 3 columns</p>\n",
       "</div>"
      ],
      "text/plain": [
       "              id  laptop_id                                 model_name\n",
       "0              1          1                          Full HD 1920x1080\n",
       "1              2          2  IPS Panel Full HD / Touchscreen 1920x1080\n",
       "2              3          3                IPS Panel Full HD 1920x1080\n",
       "3              4          4                IPS Panel Full HD 1920x1080\n",
       "4              5          5                          Full HD 1920x1080\n",
       "...          ...        ...                                        ...\n",
       "1017076  1017077    1017077                IPS Panel Full HD 1920x1080\n",
       "1017077  1017078    1017078                          Full HD 1920x1080\n",
       "1017078  1017079    1017079                          Full HD 1920x1080\n",
       "1017079  1017080    1017080               IPS Panel Quad HD+ 3200x1800\n",
       "1017080  1017081    1017081                          Full HD 1920x1080\n",
       "\n",
       "[1017081 rows x 3 columns]"
      ]
     },
     "execution_count": 59,
     "metadata": {},
     "output_type": "execute_result"
    }
   ],
   "source": [
    "scr_size = pd.read_sql_table('screens', conn)\n",
    "scr_size"
   ]
  },
  {
   "cell_type": "code",
   "execution_count": 60,
   "metadata": {},
   "outputs": [],
   "source": [
    "dataset['Screen_Size'] = dataset['Screen_Size'].apply(lambda x: x.replace('\"', ''))\n",
    "dataset['Screen_Size'] = dataset['Screen_Size'].astype(float)"
   ]
  },
  {
   "cell_type": "code",
   "execution_count": 61,
   "metadata": {},
   "outputs": [
    {
     "name": "stdout",
     "output_type": "stream",
     "text": [
      "Appended!\n"
     ]
    }
   ],
   "source": [
    "man_fac = pd.DataFrame()\n",
    "man_fac['screen_id'] = scr_size['id']\n",
    "man_fac['screen_size'] = dataset['Screen_Size']\n",
    "man_fac.to_sql(name='scr_size', con=conn, index=False ,if_exists='append')\n",
    "print('Appended!')"
   ]
  },
  {
   "cell_type": "code",
   "execution_count": 62,
   "metadata": {},
   "outputs": [
    {
     "name": "stdout",
     "output_type": "stream",
     "text": [
      "Appended!\n"
     ]
    }
   ],
   "source": [
    "man_fac = pd.DataFrame()\n",
    "# dataset.rename(columns={'Order_ID': 'laptop_id', 'RAM' : 'value'}, inplace=True)\n",
    "man_fac[['laptop_id', 'model_name']] = dataset[['Order_ID', 'RAM']]\n",
    "man_fac['model_name'] = man_fac['model_name'].apply(lambda x: x.replace('GB', ''))\n",
    "man_fac.to_sql(name='rams', con=conn, index=False ,if_exists='append')\n",
    "print('Appended!')"
   ]
  },
  {
   "cell_type": "code",
   "execution_count": 63,
   "metadata": {},
   "outputs": [
    {
     "data": {
      "text/plain": [
       "16"
      ]
     },
     "execution_count": 63,
     "metadata": {},
     "output_type": "execute_result"
    }
   ],
   "source": [
    "provinces.rename('pro_name', inplace=True)\n",
    "provinces.to_sql(name='provinces', index=False, con=conn, if_exists='append')"
   ]
  },
  {
   "cell_type": "code",
   "execution_count": 64,
   "metadata": {},
   "outputs": [],
   "source": [
    "provinces = pd.read_sql_table('provinces', conn)"
   ]
  },
  {
   "cell_type": "code",
   "execution_count": 66,
   "metadata": {},
   "outputs": [
    {
     "data": {
      "text/html": [
       "<div>\n",
       "<style scoped>\n",
       "    .dataframe tbody tr th:only-of-type {\n",
       "        vertical-align: middle;\n",
       "    }\n",
       "\n",
       "    .dataframe tbody tr th {\n",
       "        vertical-align: top;\n",
       "    }\n",
       "\n",
       "    .dataframe thead th {\n",
       "        text-align: right;\n",
       "    }\n",
       "</style>\n",
       "<table border=\"1\" class=\"dataframe\">\n",
       "  <thead>\n",
       "    <tr style=\"text-align: right;\">\n",
       "      <th></th>\n",
       "      <th>id</th>\n",
       "      <th>pro_name</th>\n",
       "      <th>Order_ID</th>\n",
       "      <th>Branch</th>\n",
       "      <th>Order_Date</th>\n",
       "      <th>Order_Priority</th>\n",
       "      <th>Manufacturer</th>\n",
       "      <th>Model_Name</th>\n",
       "      <th>Category</th>\n",
       "      <th>Screen_Size</th>\n",
       "      <th>...</th>\n",
       "      <th>GPU</th>\n",
       "      <th>OS</th>\n",
       "      <th>OS_Version</th>\n",
       "      <th>Weight</th>\n",
       "      <th>Price</th>\n",
       "      <th>Quantity</th>\n",
       "      <th>Discount</th>\n",
       "      <th>Total_Price</th>\n",
       "      <th>Profit</th>\n",
       "      <th>Ship_Duration</th>\n",
       "    </tr>\n",
       "  </thead>\n",
       "  <tbody>\n",
       "    <tr>\n",
       "      <th>0</th>\n",
       "      <td>1</td>\n",
       "      <td>Hamedan</td>\n",
       "      <td>1</td>\n",
       "      <td>Hamedan</td>\n",
       "      <td>1396-10-26</td>\n",
       "      <td>H</td>\n",
       "      <td>Dell</td>\n",
       "      <td>Vostro 3568</td>\n",
       "      <td>Notebook</td>\n",
       "      <td>15.6</td>\n",
       "      <td>...</td>\n",
       "      <td>AMD Radeon R5 M420</td>\n",
       "      <td>Windows</td>\n",
       "      <td>10</td>\n",
       "      <td>2.18</td>\n",
       "      <td>3450000</td>\n",
       "      <td>1</td>\n",
       "      <td>0</td>\n",
       "      <td>3450000.0</td>\n",
       "      <td>250000</td>\n",
       "      <td>3</td>\n",
       "    </tr>\n",
       "    <tr>\n",
       "      <th>1</th>\n",
       "      <td>1</td>\n",
       "      <td>Hamedan</td>\n",
       "      <td>48</td>\n",
       "      <td>Hamedan</td>\n",
       "      <td>1393-01-24</td>\n",
       "      <td>H</td>\n",
       "      <td>Lenovo</td>\n",
       "      <td>V330-15IKB (i5-8250U/4GB/256GB/FHD/W10)</td>\n",
       "      <td>Notebook</td>\n",
       "      <td>15.6</td>\n",
       "      <td>...</td>\n",
       "      <td>Intel UHD Graphics 620</td>\n",
       "      <td>Windows</td>\n",
       "      <td>10</td>\n",
       "      <td>1.80</td>\n",
       "      <td>2550000</td>\n",
       "      <td>1</td>\n",
       "      <td>0</td>\n",
       "      <td>2550000.0</td>\n",
       "      <td>240000</td>\n",
       "      <td>3</td>\n",
       "    </tr>\n",
       "    <tr>\n",
       "      <th>2</th>\n",
       "      <td>1</td>\n",
       "      <td>Hamedan</td>\n",
       "      <td>55</td>\n",
       "      <td>Hamedan</td>\n",
       "      <td>1396-12-20</td>\n",
       "      <td>L</td>\n",
       "      <td>MSI</td>\n",
       "      <td>GP72VR Leopard</td>\n",
       "      <td>Gaming</td>\n",
       "      <td>17.3</td>\n",
       "      <td>...</td>\n",
       "      <td>Nvidia GeForce GTX 1060</td>\n",
       "      <td>Windows</td>\n",
       "      <td>10</td>\n",
       "      <td>2.70</td>\n",
       "      <td>7150000</td>\n",
       "      <td>1</td>\n",
       "      <td>0</td>\n",
       "      <td>7150000.0</td>\n",
       "      <td>570000</td>\n",
       "      <td>7</td>\n",
       "    </tr>\n",
       "    <tr>\n",
       "      <th>3</th>\n",
       "      <td>1</td>\n",
       "      <td>Hamedan</td>\n",
       "      <td>74</td>\n",
       "      <td>Hamedan</td>\n",
       "      <td>1399-07-22</td>\n",
       "      <td>L</td>\n",
       "      <td>Acer</td>\n",
       "      <td>Aspire F5-573G</td>\n",
       "      <td>Notebook</td>\n",
       "      <td>15.6</td>\n",
       "      <td>...</td>\n",
       "      <td>Nvidia GeForce GTX 950M</td>\n",
       "      <td>Windows</td>\n",
       "      <td>10</td>\n",
       "      <td>2.40</td>\n",
       "      <td>24300000</td>\n",
       "      <td>1</td>\n",
       "      <td>0</td>\n",
       "      <td>24300000.0</td>\n",
       "      <td>2390000</td>\n",
       "      <td>10</td>\n",
       "    </tr>\n",
       "    <tr>\n",
       "      <th>4</th>\n",
       "      <td>1</td>\n",
       "      <td>Hamedan</td>\n",
       "      <td>90</td>\n",
       "      <td>Hamedan</td>\n",
       "      <td>1394-07-09</td>\n",
       "      <td>M</td>\n",
       "      <td>Dell</td>\n",
       "      <td>Inspiron 3567</td>\n",
       "      <td>Notebook</td>\n",
       "      <td>15.6</td>\n",
       "      <td>...</td>\n",
       "      <td>AMD Radeon R5 M430</td>\n",
       "      <td>Windows</td>\n",
       "      <td>10</td>\n",
       "      <td>2.20</td>\n",
       "      <td>1700000</td>\n",
       "      <td>1</td>\n",
       "      <td>0</td>\n",
       "      <td>1700000.0</td>\n",
       "      <td>170000</td>\n",
       "      <td>5</td>\n",
       "    </tr>\n",
       "    <tr>\n",
       "      <th>...</th>\n",
       "      <td>...</td>\n",
       "      <td>...</td>\n",
       "      <td>...</td>\n",
       "      <td>...</td>\n",
       "      <td>...</td>\n",
       "      <td>...</td>\n",
       "      <td>...</td>\n",
       "      <td>...</td>\n",
       "      <td>...</td>\n",
       "      <td>...</td>\n",
       "      <td>...</td>\n",
       "      <td>...</td>\n",
       "      <td>...</td>\n",
       "      <td>...</td>\n",
       "      <td>...</td>\n",
       "      <td>...</td>\n",
       "      <td>...</td>\n",
       "      <td>...</td>\n",
       "      <td>...</td>\n",
       "      <td>...</td>\n",
       "      <td>...</td>\n",
       "    </tr>\n",
       "    <tr>\n",
       "      <th>1017076</th>\n",
       "      <td>16</td>\n",
       "      <td>Zanjan</td>\n",
       "      <td>1016971</td>\n",
       "      <td>Zanjan</td>\n",
       "      <td>1393-12-03</td>\n",
       "      <td>M</td>\n",
       "      <td>Dell</td>\n",
       "      <td>Inspiron 3567</td>\n",
       "      <td>Notebook</td>\n",
       "      <td>15.6</td>\n",
       "      <td>...</td>\n",
       "      <td>AMD Radeon R5 M430</td>\n",
       "      <td>Linux</td>\n",
       "      <td>NaN</td>\n",
       "      <td>2.30</td>\n",
       "      <td>2000000</td>\n",
       "      <td>1</td>\n",
       "      <td>0</td>\n",
       "      <td>2000000.0</td>\n",
       "      <td>190000</td>\n",
       "      <td>4</td>\n",
       "    </tr>\n",
       "    <tr>\n",
       "      <th>1017077</th>\n",
       "      <td>16</td>\n",
       "      <td>Zanjan</td>\n",
       "      <td>1017018</td>\n",
       "      <td>Zanjan</td>\n",
       "      <td>1396-12-14</td>\n",
       "      <td>L</td>\n",
       "      <td>HP</td>\n",
       "      <td>Pavilion 15-AW003nv</td>\n",
       "      <td>Notebook</td>\n",
       "      <td>15.6</td>\n",
       "      <td>...</td>\n",
       "      <td>AMD Radeon R7 M440</td>\n",
       "      <td>Windows</td>\n",
       "      <td>10</td>\n",
       "      <td>2.04</td>\n",
       "      <td>2600000</td>\n",
       "      <td>1</td>\n",
       "      <td>0</td>\n",
       "      <td>2600000.0</td>\n",
       "      <td>260000</td>\n",
       "      <td>8</td>\n",
       "    </tr>\n",
       "    <tr>\n",
       "      <th>1017078</th>\n",
       "      <td>16</td>\n",
       "      <td>Zanjan</td>\n",
       "      <td>1017019</td>\n",
       "      <td>Zanjan</td>\n",
       "      <td>1400-02-10</td>\n",
       "      <td>H</td>\n",
       "      <td>HP</td>\n",
       "      <td>ProBook 650</td>\n",
       "      <td>Workstation</td>\n",
       "      <td>15.6</td>\n",
       "      <td>...</td>\n",
       "      <td>Intel HD Graphics 620</td>\n",
       "      <td>Windows</td>\n",
       "      <td>10</td>\n",
       "      <td>2.31</td>\n",
       "      <td>35600000</td>\n",
       "      <td>1</td>\n",
       "      <td>0</td>\n",
       "      <td>35600000.0</td>\n",
       "      <td>2920000</td>\n",
       "      <td>3</td>\n",
       "    </tr>\n",
       "    <tr>\n",
       "      <th>1017079</th>\n",
       "      <td>16</td>\n",
       "      <td>Zanjan</td>\n",
       "      <td>1017023</td>\n",
       "      <td>Zanjan</td>\n",
       "      <td>1400-03-23</td>\n",
       "      <td>H</td>\n",
       "      <td>Lenovo</td>\n",
       "      <td>Yoga 920-13IKB</td>\n",
       "      <td>2 in 1 Convertible</td>\n",
       "      <td>13.9</td>\n",
       "      <td>...</td>\n",
       "      <td>Intel UHD Graphics 620</td>\n",
       "      <td>Windows</td>\n",
       "      <td>10</td>\n",
       "      <td>1.40</td>\n",
       "      <td>50150000</td>\n",
       "      <td>1</td>\n",
       "      <td>0</td>\n",
       "      <td>50150000.0</td>\n",
       "      <td>3420000</td>\n",
       "      <td>2</td>\n",
       "    </tr>\n",
       "    <tr>\n",
       "      <th>1017080</th>\n",
       "      <td>16</td>\n",
       "      <td>Zanjan</td>\n",
       "      <td>1017024</td>\n",
       "      <td>Zanjan</td>\n",
       "      <td>1401-04-08</td>\n",
       "      <td>H</td>\n",
       "      <td>Lenovo</td>\n",
       "      <td>IdeaPad 320-17IKBR</td>\n",
       "      <td>Notebook</td>\n",
       "      <td>17.3</td>\n",
       "      <td>...</td>\n",
       "      <td>Nvidia GeForce MX150</td>\n",
       "      <td>No OS</td>\n",
       "      <td>NaN</td>\n",
       "      <td>2.80</td>\n",
       "      <td>21750000</td>\n",
       "      <td>1</td>\n",
       "      <td>0</td>\n",
       "      <td>21750000.0</td>\n",
       "      <td>2150000</td>\n",
       "      <td>2</td>\n",
       "    </tr>\n",
       "  </tbody>\n",
       "</table>\n",
       "<p>1017081 rows × 24 columns</p>\n",
       "</div>"
      ],
      "text/plain": [
       "         id pro_name  Order_ID   Branch  Order_Date Order_Priority  \\\n",
       "0         1  Hamedan         1  Hamedan  1396-10-26              H   \n",
       "1         1  Hamedan        48  Hamedan  1393-01-24              H   \n",
       "2         1  Hamedan        55  Hamedan  1396-12-20              L   \n",
       "3         1  Hamedan        74  Hamedan  1399-07-22              L   \n",
       "4         1  Hamedan        90  Hamedan  1394-07-09              M   \n",
       "...      ..      ...       ...      ...         ...            ...   \n",
       "1017076  16   Zanjan   1016971   Zanjan  1393-12-03              M   \n",
       "1017077  16   Zanjan   1017018   Zanjan  1396-12-14              L   \n",
       "1017078  16   Zanjan   1017019   Zanjan  1400-02-10              H   \n",
       "1017079  16   Zanjan   1017023   Zanjan  1400-03-23              H   \n",
       "1017080  16   Zanjan   1017024   Zanjan  1401-04-08              H   \n",
       "\n",
       "        Manufacturer                               Model_Name  \\\n",
       "0               Dell                              Vostro 3568   \n",
       "1             Lenovo  V330-15IKB (i5-8250U/4GB/256GB/FHD/W10)   \n",
       "2                MSI                           GP72VR Leopard   \n",
       "3               Acer                           Aspire F5-573G   \n",
       "4               Dell                            Inspiron 3567   \n",
       "...              ...                                      ...   \n",
       "1017076         Dell                            Inspiron 3567   \n",
       "1017077           HP                      Pavilion 15-AW003nv   \n",
       "1017078           HP                              ProBook 650   \n",
       "1017079       Lenovo                           Yoga 920-13IKB   \n",
       "1017080       Lenovo                       IdeaPad 320-17IKBR   \n",
       "\n",
       "                   Category  Screen_Size  ...                      GPU  \\\n",
       "0                  Notebook         15.6  ...       AMD Radeon R5 M420   \n",
       "1                  Notebook         15.6  ...   Intel UHD Graphics 620   \n",
       "2                    Gaming         17.3  ...  Nvidia GeForce GTX 1060   \n",
       "3                  Notebook         15.6  ...  Nvidia GeForce GTX 950M   \n",
       "4                  Notebook         15.6  ...       AMD Radeon R5 M430   \n",
       "...                     ...          ...  ...                      ...   \n",
       "1017076            Notebook         15.6  ...       AMD Radeon R5 M430   \n",
       "1017077            Notebook         15.6  ...       AMD Radeon R7 M440   \n",
       "1017078         Workstation         15.6  ...    Intel HD Graphics 620   \n",
       "1017079  2 in 1 Convertible         13.9  ...   Intel UHD Graphics 620   \n",
       "1017080            Notebook         17.3  ...     Nvidia GeForce MX150   \n",
       "\n",
       "              OS OS_Version Weight     Price Quantity Discount  Total_Price  \\\n",
       "0        Windows         10   2.18   3450000        1        0    3450000.0   \n",
       "1        Windows         10   1.80   2550000        1        0    2550000.0   \n",
       "2        Windows         10   2.70   7150000        1        0    7150000.0   \n",
       "3        Windows         10   2.40  24300000        1        0   24300000.0   \n",
       "4        Windows         10   2.20   1700000        1        0    1700000.0   \n",
       "...          ...        ...    ...       ...      ...      ...          ...   \n",
       "1017076    Linux        NaN   2.30   2000000        1        0    2000000.0   \n",
       "1017077  Windows         10   2.04   2600000        1        0    2600000.0   \n",
       "1017078  Windows         10   2.31  35600000        1        0   35600000.0   \n",
       "1017079  Windows         10   1.40  50150000        1        0   50150000.0   \n",
       "1017080    No OS        NaN   2.80  21750000        1        0   21750000.0   \n",
       "\n",
       "          Profit  Ship_Duration  \n",
       "0         250000              3  \n",
       "1         240000              3  \n",
       "2         570000              7  \n",
       "3        2390000             10  \n",
       "4         170000              5  \n",
       "...          ...            ...  \n",
       "1017076   190000              4  \n",
       "1017077   260000              8  \n",
       "1017078  2920000              3  \n",
       "1017079  3420000              2  \n",
       "1017080  2150000              2  \n",
       "\n",
       "[1017081 rows x 24 columns]"
      ]
     },
     "execution_count": 66,
     "metadata": {},
     "output_type": "execute_result"
    }
   ],
   "source": [
    "miane = pd.merge(provinces, dataset, left_on='pro_name', right_on='Branch')\n",
    "miane"
   ]
  },
  {
   "cell_type": "code",
   "execution_count": 67,
   "metadata": {},
   "outputs": [
    {
     "name": "stderr",
     "output_type": "stream",
     "text": [
      "C:\\Users\\Mahdi\\AppData\\Local\\Temp\\ipykernel_14536\\798481259.py:3: SettingWithCopyWarning: \n",
      "A value is trying to be set on a copy of a slice from a DataFrame\n",
      "\n",
      "See the caveats in the documentation: https://pandas.pydata.org/pandas-docs/stable/user_guide/indexing.html#returning-a-view-versus-a-copy\n",
      "  miane.rename(columns={'Order_ID': 'laptop_id', 'id': 'province_id'}, inplace=True)\n"
     ]
    },
    {
     "data": {
      "text/plain": [
       "1017081"
      ]
     },
     "execution_count": 67,
     "metadata": {},
     "output_type": "execute_result"
    }
   ],
   "source": [
    "miane = miane[['Order_ID', 'id']]\n",
    "# miane['laptop_id'] = miane['laptop_id'] + 50\n",
    "miane.rename(columns={'Order_ID': 'laptop_id', 'id': 'province_id'}, inplace=True)\n",
    "miane.to_sql(name='pro_lap', index=False, con=conn, if_exists='replace')"
   ]
  },
  {
   "cell_type": "code",
   "execution_count": null,
   "metadata": {},
   "outputs": [],
   "source": []
  }
 ],
 "metadata": {
  "kernelspec": {
   "display_name": "DataAnalyst",
   "language": "python",
   "name": "python3"
  },
  "language_info": {
   "codemirror_mode": {
    "name": "ipython",
    "version": 3
   },
   "file_extension": ".py",
   "mimetype": "text/x-python",
   "name": "python",
   "nbconvert_exporter": "python",
   "pygments_lexer": "ipython3",
   "version": "3.11.4"
  }
 },
 "nbformat": 4,
 "nbformat_minor": 2
}
