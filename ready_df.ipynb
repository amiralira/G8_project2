{
 "cells": [
  {
   "cell_type": "code",
   "execution_count": 1,
   "id": "95081a25",
   "metadata": {},
   "outputs": [],
   "source": [
    "import numpy as np\n",
    "import pandas as pd\n",
    "import seaborn as sns"
   ]
  },
  {
   "cell_type": "code",
   "execution_count": 2,
   "id": "ad34fe44",
   "metadata": {},
   "outputs": [
    {
     "name": "stdout",
     "output_type": "stream",
     "text": [
      "<class 'pandas.core.frame.DataFrame'>\n",
      "RangeIndex: 1017081 entries, 0 to 1017080\n",
      "Data columns (total 22 columns):\n",
      " #   Column          Non-Null Count    Dtype  \n",
      "---  ------          --------------    -----  \n",
      " 0   Order_ID        1017081 non-null  int64  \n",
      " 1   Branch          1017081 non-null  object \n",
      " 2   Order_Date      1017081 non-null  object \n",
      " 3   Order_Priority  1017081 non-null  object \n",
      " 4   Manufacturer    1017081 non-null  object \n",
      " 5   Model_Name      1017081 non-null  object \n",
      " 6   Category        1017081 non-null  object \n",
      " 7   Screen_Size     1017081 non-null  object \n",
      " 8   Screen          1017081 non-null  object \n",
      " 9   CPU             1017081 non-null  object \n",
      " 10  RAM             1017081 non-null  object \n",
      " 11  Storage         1017081 non-null  object \n",
      " 12  GPU             1017081 non-null  object \n",
      " 13  OS              1017081 non-null  object \n",
      " 14  OS_Version      908989 non-null   object \n",
      " 15  Weight          1017081 non-null  object \n",
      " 16  Price           1017081 non-null  int64  \n",
      " 17  Quantity        1017081 non-null  int64  \n",
      " 18  Discount        1017081 non-null  int64  \n",
      " 19  Total_Price     1017081 non-null  float64\n",
      " 20  Profit          1017081 non-null  int64  \n",
      " 21  Ship_Duration   1017081 non-null  int64  \n",
      "dtypes: float64(1), int64(6), object(15)\n",
      "memory usage: 170.7+ MB\n",
      "None\n"
     ]
    }
   ],
   "source": [
    "dataset = pd.read_csv(\"sales_data.csv\", low_memory=False)\n",
    "print(dataset.info())"
   ]
  },
  {
   "cell_type": "code",
   "execution_count": null,
   "id": "14cc5770",
   "metadata": {},
   "outputs": [],
   "source": [
    "dataframe = pd.read_csv(\"sales_data.csv\")\n",
    "dataframe1 = dataframe.drop([\"Order_ID\", \"Branch\", \"Order_Date\", \"Order_Priority\", \"Model_Name\", \"Screen\", \"OS\", \"OS_Version\", \"Quantity\", \"Discount\", \"Profit\", \"Ship_Duration\" ,\"Total_Price\" ], axis=1)\n",
    "dataframe1['Screen_Size'] = dataframe1['Screen_Size'].str[:-1].astype(float)\n",
    "dataframe1['Screen_Size_cm'] = dataframe1['Screen_Size'] * 2.54\n",
    "dataframe1[\"RAM\"] = dataframe1['RAM'].str[:-2].astype(float)\n",
    "dataframe1[\"RAM_meg\"] = dataframe1['RAM']*1024\n",
    "dataframe1[\"Weight_kg\"] = dataframe1[\"Weight\"].str[:-1]\n",
    "dataframe1[\"Weight_kg\"] = dataframe1[\"Weight_kg\"].str[:-1]\n",
    "\n",
    "dataframe1[\"Weight_kg\"] = pd.to_numeric(dataframe1[\"Weight_kg\"], errors=\"coerce\")\n",
    "dataframe1[\"Weight_kg\"] = dataframe1[\"Weight_kg\"]* 1000\n",
    "dataframe1[\"Storage_meg\"] = dataframe1[\"Storage\"]"
   ]
  },
  {
   "cell_type": "code",
   "execution_count": 3,
   "id": "691c360d",
   "metadata": {},
   "outputs": [
    {
     "name": "stderr",
     "output_type": "stream",
     "text": [
      "C:\\Users\\Mahdi\\AppData\\Local\\Temp\\ipykernel_11492\\1754937775.py:5: SettingWithCopyWarning: \n",
      "A value is trying to be set on a copy of a slice from a DataFrame.\n",
      "Try using .loc[row_indexer,col_indexer] = value instead\n",
      "\n",
      "See the caveats in the documentation: https://pandas.pydata.org/pandas-docs/stable/user_guide/indexing.html#returning-a-view-versus-a-copy\n",
      "  df['Weight'] = df['Weight'].apply(rmkg)\n"
     ]
    }
   ],
   "source": [
    "df = dataset[['Manufacturer', 'Category', 'Storage', 'Screen_Size', 'CPU', 'RAM', 'GPU', 'Weight', 'Price']]\n",
    "def rmkg(char = str):\n",
    "    char = float(char.replace('k', '').replace('g', '').replace('s', ''))\n",
    "    return char\n",
    "df['Weight'] = df['Weight'].apply(rmkg)"
   ]
  },
  {
   "cell_type": "code",
   "execution_count": 4,
   "id": "b3eac399",
   "metadata": {},
   "outputs": [
    {
     "name": "stderr",
     "output_type": "stream",
     "text": [
      "C:\\Users\\Mahdi\\AppData\\Local\\Temp\\ipykernel_11492\\3006716147.py:1: SettingWithCopyWarning: \n",
      "A value is trying to be set on a copy of a slice from a DataFrame\n",
      "\n",
      "See the caveats in the documentation: https://pandas.pydata.org/pandas-docs/stable/user_guide/indexing.html#returning-a-view-versus-a-copy\n",
      "  df.drop_duplicates(inplace=True)\n"
     ]
    }
   ],
   "source": [
    "df.drop_duplicates(inplace=True)"
   ]
  },
  {
   "cell_type": "code",
   "execution_count": 5,
   "id": "b91aec5a",
   "metadata": {
    "scrolled": true
   },
   "outputs": [
    {
     "data": {
      "text/plain": [
       "0          2.560000e+12\n",
       "1          2.560000e+12\n",
       "2          2.662400e+12\n",
       "3          1.843200e+12\n",
       "4          2.560000e+12\n",
       "               ...     \n",
       "1017063    2.867200e+12\n",
       "1017065    2.457600e+12\n",
       "1017069    2.560000e+12\n",
       "1017074    1.228800e+12\n",
       "1017078    2.560000e+12\n",
       "Name: CPU, Length: 300749, dtype: float64"
      ]
     },
     "execution_count": 5,
     "metadata": {},
     "output_type": "execute_result"
    }
   ],
   "source": [
    "pattern = r'(\\d+\\.\\d+)GHz'\n",
    "\n",
    "extract = df['CPU'].str.extract(pattern, expand=False)\n",
    "values = extract.str.replace('GHz', '').astype(float) * 1024E+9\n",
    "values"
   ]
  },
  {
   "cell_type": "code",
   "execution_count": 6,
   "id": "bc9c20a0",
   "metadata": {},
   "outputs": [
    {
     "name": "stderr",
     "output_type": "stream",
     "text": [
      "C:\\Users\\Mahdi\\AppData\\Local\\Temp\\ipykernel_11492\\3259738745.py:1: SettingWithCopyWarning: \n",
      "A value is trying to be set on a copy of a slice from a DataFrame.\n",
      "Try using .loc[row_indexer,col_indexer] = value instead\n",
      "\n",
      "See the caveats in the documentation: https://pandas.pydata.org/pandas-docs/stable/user_guide/indexing.html#returning-a-view-versus-a-copy\n",
      "  df['CPU'] = values\n"
     ]
    }
   ],
   "source": [
    "df['CPU'] = values\n",
    "# df['GPU'].unique()"
   ]
  },
  {
   "cell_type": "code",
   "execution_count": 7,
   "id": "552087b0",
   "metadata": {},
   "outputs": [
    {
     "data": {
      "text/plain": [
       "0                     256GB SSD\n",
       "1                     256GB SSD\n",
       "2                       1TB HDD\n",
       "3                     256GB SSD\n",
       "4                     256GB SSD\n",
       "                   ...         \n",
       "1017063    256GB SSD +  1TB HDD\n",
       "1017065                 1TB HDD\n",
       "1017069               512GB SSD\n",
       "1017074               256GB SSD\n",
       "1017078                 1TB HDD\n",
       "Name: Storage, Length: 300749, dtype: object"
      ]
     },
     "execution_count": 7,
     "metadata": {},
     "output_type": "execute_result"
    }
   ],
   "source": [
    "df['Storage']"
   ]
  },
  {
   "cell_type": "code",
   "execution_count": 8,
   "id": "3360be67",
   "metadata": {},
   "outputs": [
    {
     "name": "stderr",
     "output_type": "stream",
     "text": [
      "C:\\Users\\Mahdi\\AppData\\Local\\Temp\\ipykernel_11492\\147476122.py:7: FutureWarning: The pandas.np module is deprecated and will be removed from pandas in a future version. Import numpy directly instead.\n",
      "  factor = pd.np.where(ssd & hdd, 1024E+9,\n",
      "C:\\Users\\Mahdi\\AppData\\Local\\Temp\\ipykernel_11492\\147476122.py:8: FutureWarning: The pandas.np module is deprecated and will be removed from pandas in a future version. Import numpy directly instead.\n",
      "  pd.np.where(hdd, 1024E+9/4,\n",
      "C:\\Users\\Mahdi\\AppData\\Local\\Temp\\ipykernel_11492\\147476122.py:12: SettingWithCopyWarning: \n",
      "A value is trying to be set on a copy of a slice from a DataFrame.\n",
      "Try using .loc[row_indexer,col_indexer] = value instead\n",
      "\n",
      "See the caveats in the documentation: https://pandas.pydata.org/pandas-docs/stable/user_guide/indexing.html#returning-a-view-versus-a-copy\n",
      "  df['Storage'] = result\n"
     ]
    },
    {
     "data": {
      "text/plain": [
       "0          2.621440e+14\n",
       "1          2.621440e+14\n",
       "2          2.560000e+11\n",
       "3          2.621440e+14\n",
       "4          2.621440e+14\n",
       "               ...     \n",
       "1017063    2.621440e+14\n",
       "1017065    2.560000e+11\n",
       "1017069    5.242880e+14\n",
       "1017074    2.621440e+14\n",
       "1017078    2.560000e+11\n",
       "Name: Storage, Length: 300749, dtype: float64"
      ]
     },
     "execution_count": 8,
     "metadata": {},
     "output_type": "execute_result"
    }
   ],
   "source": [
    "pattern = r'(\\d+)'\n",
    "size = df['Storage'].str.extract(pattern, expand=False).astype(int)\n",
    "\n",
    "hdd = df['Storage'].str.contains('HDD')\n",
    "ssd = df['Storage'].str.contains('SSD')\n",
    "\n",
    "factor = pd.np.where(ssd & hdd, 1024E+9,\n",
    "                    pd.np.where(hdd, 1024E+9/4,\n",
    "                               1024E+9))\n",
    "\n",
    "result = size * factor\n",
    "df['Storage'] = result\n",
    "df['Storage']"
   ]
  },
  {
   "cell_type": "code",
   "execution_count": 9,
   "id": "af8ba615",
   "metadata": {},
   "outputs": [
    {
     "data": {
      "text/plain": [
       "0          2.18\n",
       "1          1.30\n",
       "2          2.60\n",
       "3          1.40\n",
       "4          2.23\n",
       "           ... \n",
       "1017063    2.50\n",
       "1017065    2.40\n",
       "1017069    1.30\n",
       "1017074    1.10\n",
       "1017078    1.98\n",
       "Name: Weight, Length: 300749, dtype: float64"
      ]
     },
     "execution_count": 9,
     "metadata": {},
     "output_type": "execute_result"
    }
   ],
   "source": [
    "df['Weight']"
   ]
  },
  {
   "cell_type": "code",
   "execution_count": 10,
   "id": "b3463d95",
   "metadata": {
    "scrolled": true
   },
   "outputs": [
    {
     "name": "stderr",
     "output_type": "stream",
     "text": [
      "C:\\Users\\Mahdi\\AppData\\Local\\Temp\\ipykernel_11492\\3620445529.py:1: SettingWithCopyWarning: \n",
      "A value is trying to be set on a copy of a slice from a DataFrame.\n",
      "Try using .loc[row_indexer,col_indexer] = value instead\n",
      "\n",
      "See the caveats in the documentation: https://pandas.pydata.org/pandas-docs/stable/user_guide/indexing.html#returning-a-view-versus-a-copy\n",
      "  df['Screen_Size'] = df['Screen_Size'].str[:-1].astype(float)\n",
      "C:\\Users\\Mahdi\\AppData\\Local\\Temp\\ipykernel_11492\\3620445529.py:2: SettingWithCopyWarning: \n",
      "A value is trying to be set on a copy of a slice from a DataFrame.\n",
      "Try using .loc[row_indexer,col_indexer] = value instead\n",
      "\n",
      "See the caveats in the documentation: https://pandas.pydata.org/pandas-docs/stable/user_guide/indexing.html#returning-a-view-versus-a-copy\n",
      "  df['Screen_Size_cm'] = df['Screen_Size'] * 2.54\n",
      "C:\\Users\\Mahdi\\AppData\\Local\\Temp\\ipykernel_11492\\3620445529.py:3: SettingWithCopyWarning: \n",
      "A value is trying to be set on a copy of a slice from a DataFrame.\n",
      "Try using .loc[row_indexer,col_indexer] = value instead\n",
      "\n",
      "See the caveats in the documentation: https://pandas.pydata.org/pandas-docs/stable/user_guide/indexing.html#returning-a-view-versus-a-copy\n",
      "  df[\"RAM\"] = df['RAM'].str[:-2].astype(float)\n",
      "C:\\Users\\Mahdi\\AppData\\Local\\Temp\\ipykernel_11492\\3620445529.py:4: SettingWithCopyWarning: \n",
      "A value is trying to be set on a copy of a slice from a DataFrame.\n",
      "Try using .loc[row_indexer,col_indexer] = value instead\n",
      "\n",
      "See the caveats in the documentation: https://pandas.pydata.org/pandas-docs/stable/user_guide/indexing.html#returning-a-view-versus-a-copy\n",
      "  df[\"RAM_gig\"] = df['RAM']*1024E+9\n"
     ]
    }
   ],
   "source": [
    "df['Screen_Size'] = df['Screen_Size'].str[:-1].astype(float)\n",
    "df['Screen_Size_cm'] = df['Screen_Size'] * 2.54\n",
    "df[\"RAM\"] = df['RAM'].str[:-2].astype(float)\n",
    "df[\"RAM_gig\"] = df['RAM']*1024E+9"
   ]
  },
  {
   "cell_type": "code",
   "execution_count": 11,
   "id": "0c34072b",
   "metadata": {},
   "outputs": [],
   "source": [
    "df.to_csv('fdataframe.csv', index=False)"
   ]
  }
 ],
 "metadata": {
  "kernelspec": {
   "display_name": "Python 3 (ipykernel)",
   "language": "python",
   "name": "python3"
  },
  "language_info": {
   "codemirror_mode": {
    "name": "ipython",
    "version": 3
   },
   "file_extension": ".py",
   "mimetype": "text/x-python",
   "name": "python",
   "nbconvert_exporter": "python",
   "pygments_lexer": "ipython3",
   "version": "3.11.4"
  }
 },
 "nbformat": 4,
 "nbformat_minor": 5
}
